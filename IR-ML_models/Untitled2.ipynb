{
 "cells": [
  {
   "cell_type": "code",
   "execution_count": 9,
   "id": "f404ea16-241b-4c0b-8ec0-431b5b07475a",
   "metadata": {
    "tags": []
   },
   "outputs": [],
   "source": [
    "from collections import Counter\n",
    "import numpy as np\n",
    "from tensorflow.keras.preprocessing import sequence\n",
    "from wordcloud import WordCloud\n",
    "import matplotlib.pyplot as plt\n",
    "import scikitplot as skplt\n",
    "\n",
    "\n",
    "def plot_cmat(yte, ypred):\n",
    "    '''Plotting confusion matrix'''\n",
    "    skplt.metrics.plot_confusion_matrix(yte, ypred)\n",
    "    plt.show()\n",
    "    \n",
    "xtr = np.load('./x_train.npy', allow_pickle=True)\n",
    "xte = np.load('./x_test.npy', allow_pickle=True)\n",
    "y_train = np.load('./y_train.npy', allow_pickle=True)\n",
    "y_test = np.load('./y_test.npy', allow_pickle=True)"
   ]
  },
  {
   "cell_type": "code",
   "execution_count": 11,
   "id": "3c10f69a-441c-4f44-8d63-b7f2517822dd",
   "metadata": {
    "tags": []
   },
   "outputs": [
    {
     "name": "stdout",
     "output_type": "stream",
     "text": [
      "Encoded y_train:  [2 4 3 0 2]\n",
      "Encoded y_test:  [4 4 3 4 4]\n"
     ]
    }
   ],
   "source": [
    "# Define a mapping from labels to integers\n",
    "label_mapping = {'Left': 0, 'Lean Left': 1, 'Center': 2, 'Lean Right': 3, 'Right': 4}\n",
    "\n",
    "# Apply the mapping to your labels\n",
    "y_train_encoded = np.array([label_mapping[label] for label in y_train])\n",
    "y_test_encoded = np.array([label_mapping[label] for label in y_test])\n",
    "\n",
    "# Check the transformed data\n",
    "print(\"Encoded y_train: \", y_train_encoded[:5])\n",
    "print(\"Encoded y_test: \", y_test_encoded[:5])"
   ]
  },
  {
   "cell_type": "code",
   "execution_count": 21,
   "id": "3bbe3941-22af-4c5e-9690-532c23741e31",
   "metadata": {
    "tags": []
   },
   "outputs": [
    {
     "name": "stdout",
     "output_type": "stream",
     "text": [
      "One-hot encoded y_train:  [[0. 0. 1. 0. 0.]\n",
      " [0. 0. 0. 0. 1.]\n",
      " [0. 0. 0. 1. 0.]\n",
      " [1. 0. 0. 0. 0.]\n",
      " [0. 0. 1. 0. 0.]]\n",
      "One-hot encoded y_test:  [[0. 0. 0. 0. 1.]\n",
      " [0. 0. 0. 0. 1.]\n",
      " [0. 0. 0. 1. 0.]\n",
      " [0. 0. 0. 0. 1.]\n",
      " [0. 0. 0. 0. 1.]]\n"
     ]
    }
   ],
   "source": [
    "from tensorflow.keras.utils import to_categorical\n",
    "\n",
    "# One-hot encode\n",
    "y_train_encoded = to_categorical(y_train_encoded, num_classes=5)\n",
    "y_test_encoded = to_categorical(y_test_encoded, num_classes=5)\n",
    "\n",
    "print(\"One-hot encoded y_train: \", y_train_encoded[:5])\n",
    "print(\"One-hot encoded y_test: \", y_test_encoded[:5])"
   ]
  },
  {
   "cell_type": "code",
   "execution_count": 23,
   "id": "8d19cbea-31b1-443f-ac59-417e901f23e8",
   "metadata": {
    "tags": []
   },
   "outputs": [
    {
     "name": "stdout",
     "output_type": "stream",
     "text": [
      "Epoch 1/10\n",
      "\u001b[1m11095/11095\u001b[0m \u001b[32m━━━━━━━━━━━━━━━━━━━━\u001b[0m\u001b[37m\u001b[0m \u001b[1m1043s\u001b[0m 94ms/step - accuracy: 0.2302 - loss: 1.5988 - val_accuracy: 0.2483 - val_loss: 1.5889\n",
      "Epoch 2/10\n",
      "\u001b[1m11095/11095\u001b[0m \u001b[32m━━━━━━━━━━━━━━━━━━━━\u001b[0m\u001b[37m\u001b[0m \u001b[1m1064s\u001b[0m 96ms/step - accuracy: 0.2484 - loss: 1.5887 - val_accuracy: 0.2485 - val_loss: 1.5884\n",
      "Epoch 3/10\n",
      "\u001b[1m11095/11095\u001b[0m \u001b[32m━━━━━━━━━━━━━━━━━━━━\u001b[0m\u001b[37m\u001b[0m \u001b[1m1049s\u001b[0m 95ms/step - accuracy: 0.2491 - loss: 1.5874 - val_accuracy: 0.2492 - val_loss: 1.5886\n",
      "Epoch 4/10\n",
      "\u001b[1m11095/11095\u001b[0m \u001b[32m━━━━━━━━━━━━━━━━━━━━\u001b[0m\u001b[37m\u001b[0m \u001b[1m1053s\u001b[0m 95ms/step - accuracy: 0.2492 - loss: 1.5872 - val_accuracy: 0.2489 - val_loss: 1.5879\n",
      "Epoch 5/10\n",
      "\u001b[1m11095/11095\u001b[0m \u001b[32m━━━━━━━━━━━━━━━━━━━━\u001b[0m\u001b[37m\u001b[0m \u001b[1m1097s\u001b[0m 99ms/step - accuracy: 0.2486 - loss: 1.5876 - val_accuracy: 0.2496 - val_loss: 1.5873\n",
      "Epoch 6/10\n",
      "\u001b[1m11095/11095\u001b[0m \u001b[32m━━━━━━━━━━━━━━━━━━━━\u001b[0m\u001b[37m\u001b[0m \u001b[1m1111s\u001b[0m 100ms/step - accuracy: 0.2499 - loss: 1.5867 - val_accuracy: 0.2490 - val_loss: 1.5874\n",
      "Epoch 7/10\n",
      "\u001b[1m11095/11095\u001b[0m \u001b[32m━━━━━━━━━━━━━━━━━━━━\u001b[0m\u001b[37m\u001b[0m \u001b[1m1095s\u001b[0m 99ms/step - accuracy: 0.2496 - loss: 1.5865 - val_accuracy: 0.2372 - val_loss: 1.5873\n",
      "Epoch 8/10\n",
      "\u001b[1m11095/11095\u001b[0m \u001b[32m━━━━━━━━━━━━━━━━━━━━\u001b[0m\u001b[37m\u001b[0m \u001b[1m1082s\u001b[0m 98ms/step - accuracy: 0.2504 - loss: 1.5861 - val_accuracy: 0.2491 - val_loss: 1.5879\n",
      "Epoch 9/10\n",
      "\u001b[1m11095/11095\u001b[0m \u001b[32m━━━━━━━━━━━━━━━━━━━━\u001b[0m\u001b[37m\u001b[0m \u001b[1m1102s\u001b[0m 99ms/step - accuracy: 0.2512 - loss: 1.5859 - val_accuracy: 0.2495 - val_loss: 1.5871\n",
      "Epoch 10/10\n",
      "\u001b[1m11095/11095\u001b[0m \u001b[32m━━━━━━━━━━━━━━━━━━━━\u001b[0m\u001b[37m\u001b[0m \u001b[1m1122s\u001b[0m 101ms/step - accuracy: 0.2495 - loss: 1.5862 - val_accuracy: 0.2506 - val_loss: 1.5869\n"
     ]
    },
    {
     "data": {
      "text/plain": [
       "<keras.src.callbacks.history.History at 0x227abcecd10>"
      ]
     },
     "execution_count": 23,
     "metadata": {},
     "output_type": "execute_result"
    }
   ],
   "source": [
    "from keras.models import Sequential\n",
    "from keras.layers import Embedding, LSTM, Dense\n",
    "from keras.preprocessing import sequence\n",
    "\n",
    "# Define constants\n",
    "top_words = 5000\n",
    "embedding_vector_length = 32\n",
    "max_review_length = 500\n",
    "\n",
    "# Create the model\n",
    "model = Sequential()\n",
    "\n",
    "# Add the Embedding layer without input_length\n",
    "model.add(Embedding(input_dim=top_words + 2, output_dim=embedding_vector_length))\n",
    "\n",
    "# Add the LSTM layer\n",
    "model.add(LSTM(units=100))\n",
    "\n",
    "# Add the Dense output layer\n",
    "model.add(Dense(units=5, activation='softmax'))\n",
    "\n",
    "# Compile the model\n",
    "model.compile(loss='categorical_crossentropy', optimizer='adam', metrics=['accuracy'])\n",
    "model.fit(xtr, y_train_encoded, validation_data=(xte, y_test_encoded), epochs=epoch_num, batch_size=batch_size)"
   ]
  },
  {
   "cell_type": "code",
   "execution_count": 24,
   "id": "35043cae-7e9b-41b1-9ccf-97bdac842d40",
   "metadata": {
    "tags": []
   },
   "outputs": [
    {
     "data": {
      "text/html": [
       "<pre style=\"white-space:pre;overflow-x:auto;line-height:normal;font-family:Menlo,'DejaVu Sans Mono',consolas,'Courier New',monospace\"><span style=\"font-weight: bold\">Model: \"sequential_4\"</span>\n",
       "</pre>\n"
      ],
      "text/plain": [
       "\u001b[1mModel: \"sequential_4\"\u001b[0m\n"
      ]
     },
     "metadata": {},
     "output_type": "display_data"
    },
    {
     "data": {
      "text/html": [
       "<pre style=\"white-space:pre;overflow-x:auto;line-height:normal;font-family:Menlo,'DejaVu Sans Mono',consolas,'Courier New',monospace\">┏━━━━━━━━━━━━━━━━━━━━━━━━━━━━━━━━━┳━━━━━━━━━━━━━━━━━━━━━━━━┳━━━━━━━━━━━━━━━┓\n",
       "┃<span style=\"font-weight: bold\"> Layer (type)                    </span>┃<span style=\"font-weight: bold\"> Output Shape           </span>┃<span style=\"font-weight: bold\">       Param # </span>┃\n",
       "┡━━━━━━━━━━━━━━━━━━━━━━━━━━━━━━━━━╇━━━━━━━━━━━━━━━━━━━━━━━━╇━━━━━━━━━━━━━━━┩\n",
       "│ embedding_4 (<span style=\"color: #0087ff; text-decoration-color: #0087ff\">Embedding</span>)         │ (<span style=\"color: #00af00; text-decoration-color: #00af00\">64</span>, <span style=\"color: #00af00; text-decoration-color: #00af00\">300</span>, <span style=\"color: #00af00; text-decoration-color: #00af00\">32</span>)          │       <span style=\"color: #00af00; text-decoration-color: #00af00\">160,064</span> │\n",
       "├─────────────────────────────────┼────────────────────────┼───────────────┤\n",
       "│ lstm_2 (<span style=\"color: #0087ff; text-decoration-color: #0087ff\">LSTM</span>)                   │ (<span style=\"color: #00af00; text-decoration-color: #00af00\">64</span>, <span style=\"color: #00af00; text-decoration-color: #00af00\">100</span>)              │        <span style=\"color: #00af00; text-decoration-color: #00af00\">53,200</span> │\n",
       "├─────────────────────────────────┼────────────────────────┼───────────────┤\n",
       "│ dense_2 (<span style=\"color: #0087ff; text-decoration-color: #0087ff\">Dense</span>)                 │ (<span style=\"color: #00af00; text-decoration-color: #00af00\">64</span>, <span style=\"color: #00af00; text-decoration-color: #00af00\">5</span>)                │           <span style=\"color: #00af00; text-decoration-color: #00af00\">505</span> │\n",
       "└─────────────────────────────────┴────────────────────────┴───────────────┘\n",
       "</pre>\n"
      ],
      "text/plain": [
       "┏━━━━━━━━━━━━━━━━━━━━━━━━━━━━━━━━━┳━━━━━━━━━━━━━━━━━━━━━━━━┳━━━━━━━━━━━━━━━┓\n",
       "┃\u001b[1m \u001b[0m\u001b[1mLayer (type)                   \u001b[0m\u001b[1m \u001b[0m┃\u001b[1m \u001b[0m\u001b[1mOutput Shape          \u001b[0m\u001b[1m \u001b[0m┃\u001b[1m \u001b[0m\u001b[1m      Param #\u001b[0m\u001b[1m \u001b[0m┃\n",
       "┡━━━━━━━━━━━━━━━━━━━━━━━━━━━━━━━━━╇━━━━━━━━━━━━━━━━━━━━━━━━╇━━━━━━━━━━━━━━━┩\n",
       "│ embedding_4 (\u001b[38;5;33mEmbedding\u001b[0m)         │ (\u001b[38;5;34m64\u001b[0m, \u001b[38;5;34m300\u001b[0m, \u001b[38;5;34m32\u001b[0m)          │       \u001b[38;5;34m160,064\u001b[0m │\n",
       "├─────────────────────────────────┼────────────────────────┼───────────────┤\n",
       "│ lstm_2 (\u001b[38;5;33mLSTM\u001b[0m)                   │ (\u001b[38;5;34m64\u001b[0m, \u001b[38;5;34m100\u001b[0m)              │        \u001b[38;5;34m53,200\u001b[0m │\n",
       "├─────────────────────────────────┼────────────────────────┼───────────────┤\n",
       "│ dense_2 (\u001b[38;5;33mDense\u001b[0m)                 │ (\u001b[38;5;34m64\u001b[0m, \u001b[38;5;34m5\u001b[0m)                │           \u001b[38;5;34m505\u001b[0m │\n",
       "└─────────────────────────────────┴────────────────────────┴───────────────┘\n"
      ]
     },
     "metadata": {},
     "output_type": "display_data"
    },
    {
     "data": {
      "text/html": [
       "<pre style=\"white-space:pre;overflow-x:auto;line-height:normal;font-family:Menlo,'DejaVu Sans Mono',consolas,'Courier New',monospace\"><span style=\"font-weight: bold\"> Total params: </span><span style=\"color: #00af00; text-decoration-color: #00af00\">641,309</span> (2.45 MB)\n",
       "</pre>\n"
      ],
      "text/plain": [
       "\u001b[1m Total params: \u001b[0m\u001b[38;5;34m641,309\u001b[0m (2.45 MB)\n"
      ]
     },
     "metadata": {},
     "output_type": "display_data"
    },
    {
     "data": {
      "text/html": [
       "<pre style=\"white-space:pre;overflow-x:auto;line-height:normal;font-family:Menlo,'DejaVu Sans Mono',consolas,'Courier New',monospace\"><span style=\"font-weight: bold\"> Trainable params: </span><span style=\"color: #00af00; text-decoration-color: #00af00\">213,769</span> (835.04 KB)\n",
       "</pre>\n"
      ],
      "text/plain": [
       "\u001b[1m Trainable params: \u001b[0m\u001b[38;5;34m213,769\u001b[0m (835.04 KB)\n"
      ]
     },
     "metadata": {},
     "output_type": "display_data"
    },
    {
     "data": {
      "text/html": [
       "<pre style=\"white-space:pre;overflow-x:auto;line-height:normal;font-family:Menlo,'DejaVu Sans Mono',consolas,'Courier New',monospace\"><span style=\"font-weight: bold\"> Non-trainable params: </span><span style=\"color: #00af00; text-decoration-color: #00af00\">0</span> (0.00 B)\n",
       "</pre>\n"
      ],
      "text/plain": [
       "\u001b[1m Non-trainable params: \u001b[0m\u001b[38;5;34m0\u001b[0m (0.00 B)\n"
      ]
     },
     "metadata": {},
     "output_type": "display_data"
    },
    {
     "data": {
      "text/html": [
       "<pre style=\"white-space:pre;overflow-x:auto;line-height:normal;font-family:Menlo,'DejaVu Sans Mono',consolas,'Courier New',monospace\"><span style=\"font-weight: bold\"> Optimizer params: </span><span style=\"color: #00af00; text-decoration-color: #00af00\">427,540</span> (1.63 MB)\n",
       "</pre>\n"
      ],
      "text/plain": [
       "\u001b[1m Optimizer params: \u001b[0m\u001b[38;5;34m427,540\u001b[0m (1.63 MB)\n"
      ]
     },
     "metadata": {},
     "output_type": "display_data"
    },
    {
     "name": "stdout",
     "output_type": "stream",
     "text": [
      "None\n"
     ]
    }
   ],
   "source": [
    "# Display the model summary\n",
    "print(model.summary())"
   ]
  },
  {
   "cell_type": "code",
   "execution_count": 25,
   "id": "1c911582-4146-47f3-9845-db3ee7823edc",
   "metadata": {
    "tags": []
   },
   "outputs": [
    {
     "name": "stdout",
     "output_type": "stream",
     "text": [
      "Accuracy= 25.06%\n"
     ]
    }
   ],
   "source": [
    "# Final evaluation of the model\n",
    "scores = model.evaluate(xte, y_test_encoded, verbose=0)\n",
    "print(\"Accuracy= %.2f%%\" % (scores[1]*100))"
   ]
  },
  {
   "cell_type": "code",
   "execution_count": 29,
   "id": "ca5b70a2-77c6-44ce-8225-a114a0219270",
   "metadata": {
    "tags": []
   },
   "outputs": [
    {
     "name": "stdout",
     "output_type": "stream",
     "text": [
      "\u001b[1m5548/5548\u001b[0m \u001b[32m━━━━━━━━━━━━━━━━━━━━\u001b[0m\u001b[37m\u001b[0m \u001b[1m120s\u001b[0m 22ms/step\n"
     ]
    },
    {
     "data": {
      "image/png": "[encoded data removed]",
      "text/plain": [
       "<Figure size 640x480 with 2 Axes>"
      ]
     },
     "metadata": {},
     "output_type": "display_data"
    }
   ],
   "source": [
    "import numpy as np\n",
    "import matplotlib.pyplot as plt\n",
    "import scikitplot as skplt\n",
    "\n",
    "# Define the plot_cmat function using scikitplot\n",
    "def plot_cmat(y_true, y_pred):\n",
    "    skplt.metrics.plot_confusion_matrix(y_true, y_pred)\n",
    "    plt.show()\n",
    "    \n",
    "# Generate predictions\n",
    "y_pred_proba = model.predict(xte)\n",
    "\n",
    "# Convert predicted probabilities to class indices\n",
    "y_pred = np.argmax(y_pred_proba, axis=1)\n",
    "\n",
    "# Since y_test_encoded was one-hot, we need to convert it back to integer encoding\n",
    "y_test_integer_encoded = np.argmax(y_test_encoded, axis=1)\n",
    "\n",
    "# Draw the confusion matrix\n",
    "plot_cmat(y_test_integer_encoded, y_pred)\n"
   ]
  },
  {
   "cell_type": "code",
   "execution_count": 37,
   "id": "d836a60a-4087-482e-89a9-5d991b9ab54c",
   "metadata": {
    "tags": []
   },
   "outputs": [
    {
     "name": "stdout",
     "output_type": "stream",
     "text": [
      "Unique values in y_train_encoded: [0 1 2 3 4]\n",
      "Counts in y_train_encoded: [141979 141980 141899 142023 142199]\n",
      "Unique values in y_test_encoded: [0 1 2 3 4]\n",
      "Counts in y_test_encoded: [35541 35540 35621 35497 35321]\n"
     ]
    }
   ],
   "source": [
    "# Define a mapping from labels to integers\n",
    "label_mapping = {'Left': 0, 'Lean Left': 1, 'Center': 2, 'Lean Right': 3, 'Right': 4}\n",
    "\n",
    "# Apply the mapping to your labels\n",
    "y_train_encoded = np.array([label_mapping[label] for label in y_train])\n",
    "y_test_encoded = np.array([label_mapping[label] for label in y_test])\n",
    "\n",
    "import numpy as np\n",
    "\n",
    "# Print unique values and their counts for y_train_encoded\n",
    "unique_train, counts_train = np.unique(y_train_encoded, return_counts=True)\n",
    "print(\"Unique values in y_train_encoded:\", unique_train)\n",
    "print(\"Counts in y_train_encoded:\", counts_train)\n",
    "\n",
    "# Print unique values and their counts for y_test_encoded\n",
    "unique_test, counts_test = np.unique(y_test_encoded, return_counts=True)\n",
    "print(\"Unique values in y_test_encoded:\", unique_test)\n",
    "print(\"Counts in y_test_encoded:\", counts_test)\n"
   ]
  },
  {
   "cell_type": "code",
   "execution_count": 39,
   "id": "a6e92576-f803-429d-bd8e-3fad8c7eea35",
   "metadata": {
    "tags": []
   },
   "outputs": [
    {
     "name": "stdout",
     "output_type": "stream",
     "text": [
      "              precision    recall  f1-score   support\n",
      "\n",
      "           0       0.46      0.42      0.44     35541\n",
      "           1       0.45      0.40      0.42     35540\n",
      "           2       0.38      0.41      0.39     35621\n",
      "           3       0.54      0.61      0.57     35497\n",
      "           4       0.42      0.41      0.41     35321\n",
      "\n",
      "    accuracy                           0.45    177520\n",
      "   macro avg       0.45      0.45      0.45    177520\n",
      "weighted avg       0.45      0.45      0.45    177520\n",
      "\n"
     ]
    }
   ],
   "source": [
    "from sklearn.linear_model import LogisticRegression\n",
    "from sklearn.metrics import classification_report, confusion_matrix\n",
    "\n",
    "# Assuming you have already loaded your dataset into x_train, x_test, y_train, y_test\n",
    "logreg = LogisticRegression(max_iter=1000)\n",
    "logreg.fit(xtr, y_train_encoded)\n",
    "\n",
    "y_pred = logreg.predict(xte)\n",
    "\n",
    "print(classification_report(y_test_encoded, y_pred))"
   ]
  },
  {
   "cell_type": "code",
   "execution_count": null,
   "id": "fffa62ef-ec0d-4be5-bf25-cf62a4dde4fe",
   "metadata": {
    "tags": []
   },
   "outputs": [],
   "source": [
    "from sklearn.ensemble import RandomForestClassifier\n",
    "\n",
    "rf = RandomForestClassifier(n_estimators=100, random_state=42)\n",
    "rf.fit(xtr, y_train_encoded)\n",
    "\n",
    "y_pred = rf.predict(xte)\n",
    "\n",
    "print(classification_report(y_test_encoded, y_pred))\n"
   ]
  },
  {
   "cell_type": "code",
   "execution_count": null,
   "id": "53960d06-f65d-47d3-beb3-5ed1c42687c5",
   "metadata": {},
   "outputs": [],
   "source": []
  }
 ],
 "metadata": {
  "kernelspec": {
   "display_name": "Python 3 (ipykernel)",
   "language": "python",
   "name": "python3"
  },
  "language_info": {
   "codemirror_mode": {
    "name": "ipython",
    "version": 3
   },
   "file_extension": ".py",
   "mimetype": "text/x-python",
   "name": "python",
   "nbconvert_exporter": "python",
   "pygments_lexer": "ipython3",
   "version": "3.11.4"
  }
 },
 "nbformat": 4,
 "nbformat_minor": 5
}
